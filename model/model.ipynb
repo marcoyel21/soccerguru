{
 "cells": [
  {
   "cell_type": "markdown",
   "id": "6691bd88-d7b5-4eef-bbbe-0ba6c26295d1",
   "metadata": {},
   "source": [
    "# Footbal Match Prediction"
   ]
  },
  {
   "cell_type": "markdown",
   "id": "7a435f7b-e1d5-4b6b-bf73-bb84a739ec09",
   "metadata": {},
   "source": [
    "In this notebook, we will retrieve data from our SQL database containing historical football matches' information, train a model that predicts the outcome of a future match, and package the model into Vertex AI's Model section."
   ]
  },
  {
   "cell_type": "markdown",
   "id": "e1671f5f-30e8-4c03-8310-72023f9883b1",
   "metadata": {},
   "source": [
    "We begin by importing the required modules."
   ]
  },
  {
   "cell_type": "code",
   "execution_count": 1,
   "id": "468a92e3-943f-4dbd-bd07-8900096c2551",
   "metadata": {},
   "outputs": [
    {
     "name": "stdout",
     "output_type": "stream",
     "text": [
      "Requirement already satisfied: mysql-connector-python-rf==2.2.2 in /opt/conda/lib/python3.7/site-packages (2.2.2)\n"
     ]
    }
   ],
   "source": [
    "import numpy as np\n",
    "import pandas as pd\n",
    "import matplotlib.pyplot as plt\n",
    "\n",
    "import yaml\n",
    "import pickle\n",
    "import re\n",
    "import os\n",
    "\n",
    "import googleapiclient.discovery\n",
    "\n",
    "from sklearn.compose import ColumnTransformer\n",
    "from sklearn.pipeline import Pipeline\n",
    "from sklearn.preprocessing import OneHotEncoder\n",
    "from sklearn.model_selection import train_test_split\n",
    "from sklearn.ensemble import RandomForestClassifier\n",
    "from sklearn.datasets import make_classification\n",
    "\n",
    "# This machine did not have the mysql.connector\n",
    "# module, so we download it\n",
    "!pip install mysql-connector-python-rf==2.2.2\n",
    "import mysql.connector"
   ]
  },
  {
   "cell_type": "markdown",
   "id": "5067dde7-3f90-417f-b72d-e92492186548",
   "metadata": {},
   "source": [
    "We also need some previously defined variables and functions, so we export them from our bucket, and turn on the autoreload in order to reload it if need be."
   ]
  },
  {
   "cell_type": "code",
   "execution_count": 2,
   "id": "8a42907c-ccd6-476c-a951-570400248bbb",
   "metadata": {},
   "outputs": [
    {
     "name": "stdout",
     "output_type": "stream",
     "text": [
      "mkdir: cannot create directory ‘scripts’: File exists\n",
      "Copying gs://ubiquitous-goggles-bucket/scripts/variables_n_functions.py...\n",
      "/ [1 files][  3.5 KiB/  3.5 KiB]                                                \n",
      "Operation completed over 1 objects/3.5 KiB.                                      \n",
      "Copying gs://ubiquitous-goggles-bucket/dags/dags-model/train.py...\n",
      "/ [1 files][  3.9 KiB/  3.9 KiB]                                                \n",
      "Operation completed over 1 objects/3.9 KiB.                                      \n"
     ]
    }
   ],
   "source": [
    "!mkdir scripts\n",
    "!gsutil cp gs://ubiquitous-goggles-bucket/scripts/variables_n_functions.py .\n",
    "!gsutil cp gs://ubiquitous-goggles-bucket/dags/dags-model/train.py .\n",
    "\n",
    "import variables_n_functions as vnf\n",
    "\n",
    "%load_ext autoreload\n",
    "%autoreload 2"
   ]
  },
  {
   "cell_type": "markdown",
   "id": "af5638ca-d43e-413f-ab80-c803207095b3",
   "metadata": {},
   "source": [
    "We copy the config file from our bucket, which contains information to connect to de DB, and load it."
   ]
  },
  {
   "cell_type": "code",
   "execution_count": 3,
   "id": "335066d9-a2a5-4291-ad12-04cc12b53076",
   "metadata": {},
   "outputs": [
    {
     "name": "stdout",
     "output_type": "stream",
     "text": [
      "Copying gs://ubiquitous-goggles-bucket/dags/config.yaml...\n",
      "/ [1 files][  2.6 KiB/  2.6 KiB]                                                \n",
      "Operation completed over 1 objects/2.6 KiB.                                      \n"
     ]
    }
   ],
   "source": [
    "!gsutil cp gs://ubiquitous-goggles-bucket/dags/config.yaml .\n",
    "\n",
    "config_file = open('config.yaml', 'r')\n",
    "config = yaml.safe_load(config_file)"
   ]
  },
  {
   "cell_type": "markdown",
   "id": "e820e202-1610-43b6-9255-015e98e9e98c",
   "metadata": {},
   "source": [
    "We also enable all the APIs that we are going to use."
   ]
  },
  {
   "cell_type": "code",
   "execution_count": 4,
   "id": "2e782366-06e2-478b-8bf0-58b7c8e6f337",
   "metadata": {},
   "outputs": [
    {
     "name": "stdout",
     "output_type": "stream",
     "text": [
      "Operation \"operations/acat.p2-922184065117-580132c8-2b6d-4dc6-8930-d2cabb417bce\" finished successfully.\n"
     ]
    }
   ],
   "source": [
    "!gcloud services enable compute.googleapis.com \\\n",
    "                       containerregistry.googleapis.com \\\n",
    "                       aiplatform.googleapis.com \\\n",
    "                       cloudbuild.googleapis.com \\\n",
    "                       ml.googleapis.com"
   ]
  },
  {
   "cell_type": "markdown",
   "id": "75557b6d-3a67-4154-b21a-6c0c38001417",
   "metadata": {},
   "source": [
    "We connect to the DB an retrieve data for the last 5 years."
   ]
  },
  {
   "cell_type": "code",
   "execution_count": 119,
   "id": "bc4fd474-d0a9-4c8d-91d6-32e72db1b270",
   "metadata": {},
   "outputs": [],
   "source": [
    "from datetime import date, timedelta\n",
    "\n",
    "end = date.today()\n",
    "start = end - timedelta(5 * 365)\n",
    "\n",
    "# between = start.strftime(\"%Y-%m-%d\") + \",\" + end.strftime(\"%Y-%m-%d\")"
   ]
  },
  {
   "cell_type": "code",
   "execution_count": 120,
   "id": "822b4143-6a35-4ae1-af0b-17364e128869",
   "metadata": {},
   "outputs": [
    {
     "data": {
      "text/plain": [
       "\"SELECT * FROM h2h.model2 WHERE match_day BETWEEN '2017-05-17' AND '2022-05-16'\""
      ]
     },
     "execution_count": 120,
     "metadata": {},
     "output_type": "execute_result"
    }
   ],
   "source": [
    "sql_query = f\"SELECT * FROM h2h.model2 WHERE match_day BETWEEN '{start}' AND '{end}'\"\n",
    "# sql_query = f\"SELECT * FROM h2h.model2_predictions WHERE match_day BETWEEN '2022-05-15' AND '2022-05-22'\"\n",
    "sql_query"
   ]
  },
  {
   "cell_type": "code",
   "execution_count": 121,
   "id": "06a99b91-2bca-49c9-81ff-5789ad71a21d",
   "metadata": {
    "tags": []
   },
   "outputs": [
    {
     "data": {
      "text/html": [
       "<div>\n",
       "<style scoped>\n",
       "    .dataframe tbody tr th:only-of-type {\n",
       "        vertical-align: middle;\n",
       "    }\n",
       "\n",
       "    .dataframe tbody tr th {\n",
       "        vertical-align: top;\n",
       "    }\n",
       "\n",
       "    .dataframe thead th {\n",
       "        text-align: right;\n",
       "    }\n",
       "</style>\n",
       "<table border=\"1\" class=\"dataframe\">\n",
       "  <thead>\n",
       "    <tr style=\"text-align: right;\">\n",
       "      <th></th>\n",
       "      <th>Y</th>\n",
       "      <th>league_id</th>\n",
       "      <th>season_id</th>\n",
       "      <th>venue_id</th>\n",
       "      <th>referee_id</th>\n",
       "      <th>localteam_id</th>\n",
       "      <th>visitorteam_id</th>\n",
       "      <th>localteam_position</th>\n",
       "      <th>visitorteam_position</th>\n",
       "      <th>match_day</th>\n",
       "    </tr>\n",
       "    <tr>\n",
       "      <th>id</th>\n",
       "      <th></th>\n",
       "      <th></th>\n",
       "      <th></th>\n",
       "      <th></th>\n",
       "      <th></th>\n",
       "      <th></th>\n",
       "      <th></th>\n",
       "      <th></th>\n",
       "      <th></th>\n",
       "      <th></th>\n",
       "    </tr>\n",
       "  </thead>\n",
       "  <tbody>\n",
       "    <tr>\n",
       "      <th>18138879</th>\n",
       "      <td>1.0</td>\n",
       "      <td>8</td>\n",
       "      <td>18378</td>\n",
       "      <td>281313</td>\n",
       "      <td>14532</td>\n",
       "      <td>6</td>\n",
       "      <td>1</td>\n",
       "      <td>7.0</td>\n",
       "      <td>6.0</td>\n",
       "      <td>2022-03-20</td>\n",
       "    </tr>\n",
       "    <tr>\n",
       "      <th>18138865</th>\n",
       "      <td>1.0</td>\n",
       "      <td>8</td>\n",
       "      <td>18378</td>\n",
       "      <td>230</td>\n",
       "      <td>13533</td>\n",
       "      <td>8</td>\n",
       "      <td>1</td>\n",
       "      <td>2.0</td>\n",
       "      <td>5.0</td>\n",
       "      <td>2022-03-05</td>\n",
       "    </tr>\n",
       "    <tr>\n",
       "      <th>18138890</th>\n",
       "      <td>1.0</td>\n",
       "      <td>8</td>\n",
       "      <td>18378</td>\n",
       "      <td>214</td>\n",
       "      <td>15273</td>\n",
       "      <td>1</td>\n",
       "      <td>13</td>\n",
       "      <td>8.0</td>\n",
       "      <td>17.0</td>\n",
       "      <td>2022-04-03</td>\n",
       "    </tr>\n",
       "    <tr>\n",
       "      <th>18138996</th>\n",
       "      <td>1.0</td>\n",
       "      <td>8</td>\n",
       "      <td>18378</td>\n",
       "      <td>206</td>\n",
       "      <td>13533</td>\n",
       "      <td>14</td>\n",
       "      <td>1</td>\n",
       "      <td>7.0</td>\n",
       "      <td>4.0</td>\n",
       "      <td>2022-01-22</td>\n",
       "    </tr>\n",
       "    <tr>\n",
       "      <th>18139008</th>\n",
       "      <td>1.0</td>\n",
       "      <td>8</td>\n",
       "      <td>18378</td>\n",
       "      <td>214</td>\n",
       "      <td>19868</td>\n",
       "      <td>1</td>\n",
       "      <td>15</td>\n",
       "      <td>6.0</td>\n",
       "      <td>9.0</td>\n",
       "      <td>2022-03-13</td>\n",
       "    </tr>\n",
       "  </tbody>\n",
       "</table>\n",
       "</div>"
      ],
      "text/plain": [
       "            Y league_id season_id venue_id referee_id localteam_id  \\\n",
       "id                                                                   \n",
       "18138879  1.0         8     18378   281313      14532            6   \n",
       "18138865  1.0         8     18378      230      13533            8   \n",
       "18138890  1.0         8     18378      214      15273            1   \n",
       "18138996  1.0         8     18378      206      13533           14   \n",
       "18139008  1.0         8     18378      214      19868            1   \n",
       "\n",
       "         visitorteam_id  localteam_position  visitorteam_position   match_day  \n",
       "id                                                                             \n",
       "18138879              1                 7.0                   6.0  2022-03-20  \n",
       "18138865              1                 2.0                   5.0  2022-03-05  \n",
       "18138890             13                 8.0                  17.0  2022-04-03  \n",
       "18138996              1                 7.0                   4.0  2022-01-22  \n",
       "18139008             15                 6.0                   9.0  2022-03-13  "
      ]
     },
     "execution_count": 121,
     "metadata": {},
     "output_type": "execute_result"
    }
   ],
   "source": [
    "client = mysql.connector.connect(**config['connection'])\n",
    "\n",
    "df = pd.read_sql(sql_query, con = client)\n",
    "\n",
    "df.set_index('id', inplace = True)\n",
    "\n",
    "df.head()"
   ]
  },
  {
   "cell_type": "markdown",
   "id": "f366103b-3ba1-411b-9211-4b7096ea8ab1",
   "metadata": {},
   "source": [
    "We do some manipulation:"
   ]
  },
  {
   "cell_type": "code",
   "execution_count": 122,
   "id": "8f81f1b5-745f-41f1-b498-7b0240cf8a29",
   "metadata": {},
   "outputs": [],
   "source": [
    "df['Y'] = df['Y'].astype(int)\n",
    "df['localteam_position'] = df['localteam_position'].astype(int)\n",
    "df['visitorteam_position'] = df['visitorteam_position'].astype(int) "
   ]
  },
  {
   "cell_type": "markdown",
   "id": "860bd2cc-d1db-4067-9cfd-1ef457016d8e",
   "metadata": {},
   "source": [
    "We split the data into training and testing sets. "
   ]
  },
  {
   "cell_type": "code",
   "execution_count": 123,
   "id": "57d1d603-a2f0-4dd1-af5a-905d264a9781",
   "metadata": {},
   "outputs": [],
   "source": [
    "### These could ideally be in variables_n_functions.py\n",
    "model_columns = [\n",
    "                 'league_id',\n",
    "                 'season_id',\n",
    "                 'venue_id', \n",
    "                 'referee_id',\n",
    "                 'localteam_id',\n",
    "                 'visitorteam_id',\n",
    "                 'localteam_position',\n",
    "                 'visitorteam_position'\n",
    "                ]\n",
    "\n",
    "ohe_columns =   [\n",
    "                 'league_id',\n",
    "                 'season_id',\n",
    "                 'venue_id', \n",
    "                 'referee_id',\n",
    "                 'localteam_id',\n",
    "                 'visitorteam_id',\n",
    "                ]"
   ]
  },
  {
   "cell_type": "code",
   "execution_count": 124,
   "id": "2bb56a12-0299-4f91-afe4-5e8ae9f36fc7",
   "metadata": {},
   "outputs": [],
   "source": [
    "# Convert categorical to dummies\n",
    "X = df[model_columns]\n",
    "\n",
    "# Response variable\n",
    "y = df['Y'].astype(int)\n",
    "\n",
    "# Split into train and test sets\n",
    "X_train, X_test, y_train, y_test = train_test_split(X, y, test_size=0.2, random_state=10)"
   ]
  },
  {
   "cell_type": "markdown",
   "id": "02fea5b6-f0eb-41e0-aab9-78e3f05cf260",
   "metadata": {},
   "source": [
    "We also have to convert these to json files. The reason for this is that the endpoint recieves json files, *not* pd.DataFrames"
   ]
  },
  {
   "cell_type": "code",
   "execution_count": 125,
   "id": "9f1a93f4-a221-47b5-bfc5-da5a20397cce",
   "metadata": {},
   "outputs": [],
   "source": [
    "X_train.to_json('X_train.json')\n",
    "X_test.to_json('X_test.json')"
   ]
  },
  {
   "cell_type": "markdown",
   "id": "86bbbe34-4f0d-40b7-ba88-a0e50ecec3ae",
   "metadata": {},
   "source": [
    "To treat few observations in categorical variables, we collapse these into an _other_ category, which will be representative of any observation with less than 1% representation.\n",
    "\n",
    "First, we obtain the categories to drop from each column from the training set (since we will not know which categories will be sparse in the future)."
   ]
  },
  {
   "cell_type": "code",
   "execution_count": 126,
   "id": "ff6a6964-1232-4c34-b672-97fb659cc151",
   "metadata": {},
   "outputs": [
    {
     "name": "stdout",
     "output_type": "stream",
     "text": [
      "Overwriting preprocess.py\n"
     ]
    }
   ],
   "source": [
    "%%writefile preprocess.py\n",
    "\n",
    "import pandas as pd\n",
    "from sklearn.compose import ColumnTransformer\n",
    "from sklearn.pipeline import Pipeline\n",
    "from sklearn.preprocessing import OneHotEncoder\n",
    "\n",
    "class DataPreprocessor(object):\n",
    "    \n",
    "    def __init__(self):\n",
    "        \n",
    "        self._categories_to_drop = dict()\n",
    "        self._categories_to_keep = dict()\n",
    "        self._ohe_columns =   [\n",
    "                               'league_id',\n",
    "                               'season_id',\n",
    "                               'venue_id', \n",
    "                               'referee_id',\n",
    "                               'localteam_id',\n",
    "                               'visitorteam_id',\n",
    "                              ]\n",
    "        self._ohe = None\n",
    "    \n",
    "    def create_categories(self, df):\n",
    "        ### The passing threshold is 1% of the dataset\n",
    "        threshold = int(1 / 100 * len(df))\n",
    "        \n",
    "        for col in self._ohe_columns:\n",
    "\n",
    "            # https://stackoverflow.com/questions/67130879/collapsing-many-categories-of-variable\n",
    "            categories = df[col].value_counts()\n",
    "            \n",
    "            self._categories_to_keep[col] = categories[categories >= threshold]\n",
    "            self._categories_to_keep[col] = list(self._categories_to_keep[col].index)\n",
    "\n",
    "            self._categories_to_drop[col] = categories[categories < threshold]\n",
    "            self._categories_to_drop[col] = list(self._categories_to_drop[col].index) + ['-1'] # Add -1 since these are nan\n",
    "    \n",
    "    def collapse_categories(self, df):\n",
    "        \n",
    "        X = df.copy()\n",
    "        \n",
    "        # We set the label equal to 0 in each of the categories we found to have a less than 5% representation in the dataset, for both the training and test set.\n",
    "        for col in self._ohe_columns:\n",
    "\n",
    "            X.loc[ X[col].isin(self._categories_to_drop[col]), col] = '0'\n",
    "            X.loc[~X[col].isin(self._categories_to_keep[col]), col] = '0'\n",
    "        \n",
    "        return X\n",
    "    \n",
    "    def create_ohe(self, df):\n",
    "        \n",
    "        X = self.collapse_categories(df)\n",
    "        \n",
    "        # https://scikit-learn.org/stable/auto_examples/compose/plot_column_transformer_mixed_types.html\n",
    "        \n",
    "        # Convert to OHE using sklearn classes to treat unkown cases as well as leveraging on the\n",
    "        # Pipeline structure\n",
    "        categorical_features = self._ohe_columns\n",
    "        categorical_transformer = OneHotEncoder(handle_unknown=\"ignore\")\n",
    "\n",
    "        preprocessor = ColumnTransformer(\n",
    "            transformers=[\n",
    "                (\"cat\", categorical_transformer, categorical_features),\n",
    "            ]\n",
    "        )\n",
    "\n",
    "        clf = Pipeline(\n",
    "            steps=[(\"preprocessor\", preprocessor)]\n",
    "        )\n",
    "        \n",
    "        self._ohe = clf.fit(X)\n",
    "    \n",
    "    def transform_data(self, text):\n",
    "        \n",
    "        df = pd.DataFrame(eval(text))        \n",
    "        # df = pd.read_json(file)\n",
    "        X = self.collapse_categories(df)\n",
    "            \n",
    "        return self._ohe.transform(X)"
   ]
  },
  {
   "cell_type": "markdown",
   "id": "774a8432-bf31-4fdb-9dfa-e953382b40f7",
   "metadata": {},
   "source": [
    "We train our preprocessor and dump it as a pickle."
   ]
  },
  {
   "cell_type": "code",
   "execution_count": 127,
   "id": "d1dce037-82ae-426f-be83-b24bb91de2c3",
   "metadata": {},
   "outputs": [],
   "source": [
    "from preprocess import DataPreprocessor\n",
    "\n",
    "dp = DataPreprocessor()\n",
    "dp.create_categories(X_train)\n",
    "dp.create_ohe(X_train)\n",
    "\n",
    "import pickle\n",
    "with open('./processor_state.pkl', 'wb') as f:\n",
    "    pickle.dump(dp,f)"
   ]
  },
  {
   "cell_type": "markdown",
   "id": "b46eb66c-460a-4995-bad7-21a49f956377",
   "metadata": {},
   "source": [
    "We call the fit with our transformed data, and check the accuracy."
   ]
  },
  {
   "cell_type": "code",
   "execution_count": 128,
   "id": "78a508bc-84f2-451e-98b8-a1e7750d7de7",
   "metadata": {},
   "outputs": [],
   "source": [
    "from sklearn.ensemble import GradientBoostingClassifier"
   ]
  },
  {
   "cell_type": "code",
   "execution_count": 129,
   "id": "968ba496-e631-419e-b0ca-015a55c9618e",
   "metadata": {},
   "outputs": [
    {
     "name": "stdout",
     "output_type": "stream",
     "text": [
      "78.17 % succesfully predicted matches in the train set\n",
      "74.66 % succesfully predicted matches in the test set\n"
     ]
    }
   ],
   "source": [
    "# clf = RandomForestClassifier(max_depth=20, random_state=0)\n",
    "clf = GradientBoostingClassifier(n_estimators=200, max_depth=4, learning_rate=0.15, min_samples_leaf=12)\n",
    "clf.fit(dp.transform_data(str(X_train.to_dict())), y_train)\n",
    "\n",
    "partidos_train = clf.score(dp.transform_data(str(X_train.to_dict())), y_train)\n",
    "partidos_test = clf.score(dp.transform_data(str(X_test.to_dict())), y_test)\n",
    "\n",
    "print(round(partidos_train*100,2), '% succesfully predicted matches in the train set')\n",
    "print(round(partidos_test*100,2), '% succesfully predicted matches in the test set')"
   ]
  },
  {
   "cell_type": "markdown",
   "id": "9225f106-1cdd-46a3-b87c-ed0aaaa52366",
   "metadata": {},
   "source": [
    "We save the model to further pass it to Vertex Model section."
   ]
  },
  {
   "cell_type": "code",
   "execution_count": 132,
   "id": "81ea6e9a-e118-4b9c-aad3-0086366a7d7a",
   "metadata": {},
   "outputs": [],
   "source": [
    "# Save to file in the current working directory\n",
    "pkl_filename = \"model.pkl\"\n",
    "with open(pkl_filename, 'wb') as file:\n",
    "    pickle.dump(clf, file)"
   ]
  },
  {
   "cell_type": "markdown",
   "id": "65ba5e1d-2e2c-400d-9157-e8c8c8ce5745",
   "metadata": {
    "tags": []
   },
   "source": [
    "We check on a new, fictional example. For it, we assign som unobserved values for the categories, which should at least throw a prediction value given the pipeline that we wrote, even if it does not make any sense."
   ]
  },
  {
   "cell_type": "code",
   "execution_count": 133,
   "id": "797ca957-5b2c-4f02-a707-4aa3f8c5c884",
   "metadata": {},
   "outputs": [
    {
     "data": {
      "text/html": [
       "<div>\n",
       "<style scoped>\n",
       "    .dataframe tbody tr th:only-of-type {\n",
       "        vertical-align: middle;\n",
       "    }\n",
       "\n",
       "    .dataframe tbody tr th {\n",
       "        vertical-align: top;\n",
       "    }\n",
       "\n",
       "    .dataframe thead th {\n",
       "        text-align: right;\n",
       "    }\n",
       "</style>\n",
       "<table border=\"1\" class=\"dataframe\">\n",
       "  <thead>\n",
       "    <tr style=\"text-align: right;\">\n",
       "      <th></th>\n",
       "      <th>league_id</th>\n",
       "      <th>season_id</th>\n",
       "      <th>venue_id</th>\n",
       "      <th>referee_id</th>\n",
       "      <th>localteam_id</th>\n",
       "      <th>visitorteam_id</th>\n",
       "      <th>localteam_position</th>\n",
       "      <th>visitorteam_position</th>\n",
       "    </tr>\n",
       "  </thead>\n",
       "  <tbody>\n",
       "    <tr>\n",
       "      <th>123</th>\n",
       "      <td>8</td>\n",
       "      <td>6397</td>\n",
       "      <td>117</td>\n",
       "      <td>14532</td>\n",
       "      <td>42</td>\n",
       "      <td>8</td>\n",
       "      <td>15</td>\n",
       "      <td>8</td>\n",
       "    </tr>\n",
       "  </tbody>\n",
       "</table>\n",
       "</div>"
      ],
      "text/plain": [
       "    league_id season_id venue_id referee_id localteam_id visitorteam_id  \\\n",
       "123         8      6397      117      14532           42              8   \n",
       "\n",
       "     localteam_position  visitorteam_position  \n",
       "123                  15                     8  "
      ]
     },
     "execution_count": 133,
     "metadata": {},
     "output_type": "execute_result"
    }
   ],
   "source": [
    "new_X, new_y = X_test.copy()[:1], y_test.copy()[:1]\n",
    "\n",
    "new_index = 123\n",
    "new_X.index, new_y.index = [new_index], [new_index]\n",
    "\n",
    "new_X"
   ]
  },
  {
   "cell_type": "code",
   "execution_count": 134,
   "id": "a49a1a41-61e6-46fd-a881-3d2f2fa6e335",
   "metadata": {},
   "outputs": [
    {
     "data": {
      "text/html": [
       "<div>\n",
       "<style scoped>\n",
       "    .dataframe tbody tr th:only-of-type {\n",
       "        vertical-align: middle;\n",
       "    }\n",
       "\n",
       "    .dataframe tbody tr th {\n",
       "        vertical-align: top;\n",
       "    }\n",
       "\n",
       "    .dataframe thead th {\n",
       "        text-align: right;\n",
       "    }\n",
       "</style>\n",
       "<table border=\"1\" class=\"dataframe\">\n",
       "  <thead>\n",
       "    <tr style=\"text-align: right;\">\n",
       "      <th></th>\n",
       "      <th>league_id</th>\n",
       "      <th>season_id</th>\n",
       "      <th>venue_id</th>\n",
       "      <th>referee_id</th>\n",
       "      <th>localteam_id</th>\n",
       "      <th>visitorteam_id</th>\n",
       "      <th>localteam_position</th>\n",
       "      <th>visitorteam_position</th>\n",
       "    </tr>\n",
       "  </thead>\n",
       "  <tbody>\n",
       "    <tr>\n",
       "      <th>123</th>\n",
       "      <td>19</td>\n",
       "      <td>19</td>\n",
       "      <td>8914</td>\n",
       "      <td>14468</td>\n",
       "      <td>78</td>\n",
       "      <td>53</td>\n",
       "      <td>32</td>\n",
       "      <td>2</td>\n",
       "    </tr>\n",
       "  </tbody>\n",
       "</table>\n",
       "</div>"
      ],
      "text/plain": [
       "    league_id season_id venue_id referee_id localteam_id visitorteam_id  \\\n",
       "123        19        19     8914      14468           78             53   \n",
       "\n",
       "     localteam_position  visitorteam_position  \n",
       "123                  32                     2  "
      ]
     },
     "execution_count": 134,
     "metadata": {},
     "output_type": "execute_result"
    }
   ],
   "source": [
    "new_X.loc[new_index, 'league_id'] = 19\n",
    "new_X.loc[new_index, 'season_id'] = 19\n",
    "new_X.loc[new_index, 'venue_id'] = 8914\n",
    "new_X.loc[new_index, 'referee_id'] = 14468\n",
    "new_X.loc[new_index, 'localteam_id'] = 78\n",
    "new_X.loc[new_index, 'visitorteam_id'] = 53\n",
    "new_X.loc[new_index, 'localteam_position'] = 32\n",
    "new_X.loc[new_index, 'visitorteam_position'] = 2\n",
    "\n",
    "new_y.loc[new_index] = 0\n",
    "\n",
    "new_X.to_json('new_X.json')\n",
    "with open('new_X.json', 'r') as f:\n",
    "    new_X_text = f.read()\n",
    "new_X"
   ]
  },
  {
   "cell_type": "code",
   "execution_count": 135,
   "id": "6360b983-d456-44c9-be36-3352a687690a",
   "metadata": {
    "tags": []
   },
   "outputs": [
    {
     "data": {
      "text/plain": [
       "array([[0.56536343, 0.43463657]])"
      ]
     },
     "execution_count": 135,
     "metadata": {},
     "output_type": "execute_result"
    }
   ],
   "source": [
    "clf.predict_proba(dp.transform_data(new_X_text))"
   ]
  },
  {
   "cell_type": "markdown",
   "id": "c31d2778-8d8b-427a-bb0f-cf82ebaa263a",
   "metadata": {},
   "source": [
    "Now we write the full preprocessing and model prediction pipeline into a script."
   ]
  },
  {
   "cell_type": "code",
   "execution_count": 136,
   "id": "ac478495-c9f7-4407-a45b-b6e919b9a569",
   "metadata": {},
   "outputs": [
    {
     "name": "stdout",
     "output_type": "stream",
     "text": [
      "Overwriting model_prediction.py\n"
     ]
    }
   ],
   "source": [
    "%%writefile model_prediction.py\n",
    "\n",
    "import pickle\n",
    "import os\n",
    "import numpy as np\n",
    "\n",
    "class CustomModelPrediction(object):\n",
    "    def __init__(self, model, processor):\n",
    "        self._model= model\n",
    "        self._processor = processor\n",
    "    \n",
    "    def predict(self, instances, **kwargs):        \n",
    "        preprocessed_data = self._processor.transform_data(instances)        \n",
    "        predictions = self._model.predict_proba(preprocessed_data)\n",
    "        return predictions.tolist()\n",
    "    \n",
    "    @classmethod\n",
    "    def from_path(cls, model_dir):\n",
    "        import os\n",
    "        \n",
    "        with open(os.path.join(model_dir,'model.pkl'), 'rb') as file:\n",
    "            model = pickle.load(file)\n",
    "            file.close()\n",
    "        \n",
    "        with open(os.path.join(model_dir, 'processor_state.pkl'), 'rb') as file:\n",
    "            processor = pickle.load(file)\n",
    "                \n",
    "        return cls(model, processor)"
   ]
  },
  {
   "cell_type": "markdown",
   "id": "fa26562e-2277-4fd0-ad3f-7953cf3a5cc3",
   "metadata": {},
   "source": [
    "We check that it works as expected."
   ]
  },
  {
   "cell_type": "code",
   "execution_count": 137,
   "id": "4c180c85-a1fb-4755-b7cc-8cd367c9ad4f",
   "metadata": {},
   "outputs": [
    {
     "data": {
      "text/plain": [
       "[[0.5653634330956301, 0.43463656690436986]]"
      ]
     },
     "execution_count": 137,
     "metadata": {},
     "output_type": "execute_result"
    }
   ],
   "source": [
    "from model_prediction import CustomModelPrediction\n",
    "\n",
    "classifier = CustomModelPrediction.from_path('.')\n",
    "\n",
    "results = classifier.predict(new_X_text)\n",
    "\n",
    "results"
   ]
  },
  {
   "cell_type": "code",
   "execution_count": 138,
   "id": "1a7e9441-ee26-4bc7-ab13-e8bb139cfdc2",
   "metadata": {},
   "outputs": [
    {
     "data": {
      "text/html": [
       "<div>\n",
       "<style scoped>\n",
       "    .dataframe tbody tr th:only-of-type {\n",
       "        vertical-align: middle;\n",
       "    }\n",
       "\n",
       "    .dataframe tbody tr th {\n",
       "        vertical-align: top;\n",
       "    }\n",
       "\n",
       "    .dataframe thead th {\n",
       "        text-align: right;\n",
       "    }\n",
       "</style>\n",
       "<table border=\"1\" class=\"dataframe\">\n",
       "  <thead>\n",
       "    <tr style=\"text-align: right;\">\n",
       "      <th></th>\n",
       "      <th>league_id</th>\n",
       "      <th>season_id</th>\n",
       "      <th>venue_id</th>\n",
       "      <th>referee_id</th>\n",
       "      <th>localteam_id</th>\n",
       "      <th>visitorteam_id</th>\n",
       "      <th>localteam_position</th>\n",
       "      <th>visitorteam_position</th>\n",
       "    </tr>\n",
       "    <tr>\n",
       "      <th>id</th>\n",
       "      <th></th>\n",
       "      <th></th>\n",
       "      <th></th>\n",
       "      <th></th>\n",
       "      <th></th>\n",
       "      <th></th>\n",
       "      <th></th>\n",
       "      <th></th>\n",
       "    </tr>\n",
       "  </thead>\n",
       "  <tbody>\n",
       "    <tr>\n",
       "      <th>1710856</th>\n",
       "      <td>8</td>\n",
       "      <td>6397</td>\n",
       "      <td>117</td>\n",
       "      <td>14532</td>\n",
       "      <td>42</td>\n",
       "      <td>8</td>\n",
       "      <td>15</td>\n",
       "      <td>8</td>\n",
       "    </tr>\n",
       "    <tr>\n",
       "      <th>16924688</th>\n",
       "      <td>8</td>\n",
       "      <td>17420</td>\n",
       "      <td>201</td>\n",
       "      <td>13529</td>\n",
       "      <td>51</td>\n",
       "      <td>20</td>\n",
       "      <td>11</td>\n",
       "      <td>15</td>\n",
       "    </tr>\n",
       "    <tr>\n",
       "      <th>10332838</th>\n",
       "      <td>8</td>\n",
       "      <td>12962</td>\n",
       "      <td>167</td>\n",
       "      <td>15293</td>\n",
       "      <td>65</td>\n",
       "      <td>18</td>\n",
       "      <td>16</td>\n",
       "      <td>4</td>\n",
       "    </tr>\n",
       "    <tr>\n",
       "      <th>11886295</th>\n",
       "      <td>82</td>\n",
       "      <td>16264</td>\n",
       "      <td>1618</td>\n",
       "      <td>15406</td>\n",
       "      <td>272</td>\n",
       "      <td>332</td>\n",
       "      <td>9</td>\n",
       "      <td>10</td>\n",
       "    </tr>\n",
       "    <tr>\n",
       "      <th>18219196</th>\n",
       "      <td>384</td>\n",
       "      <td>18576</td>\n",
       "      <td>7305</td>\n",
       "      <td>17929</td>\n",
       "      <td>345</td>\n",
       "      <td>774</td>\n",
       "      <td>19</td>\n",
       "      <td>18</td>\n",
       "    </tr>\n",
       "    <tr>\n",
       "      <th>10333007</th>\n",
       "      <td>8</td>\n",
       "      <td>12962</td>\n",
       "      <td>117</td>\n",
       "      <td>15241</td>\n",
       "      <td>42</td>\n",
       "      <td>14</td>\n",
       "      <td>11</td>\n",
       "      <td>6</td>\n",
       "    </tr>\n",
       "    <tr>\n",
       "      <th>2020188</th>\n",
       "      <td>82</td>\n",
       "      <td>8026</td>\n",
       "      <td>2063</td>\n",
       "      <td>15413</td>\n",
       "      <td>354</td>\n",
       "      <td>366</td>\n",
       "      <td>11</td>\n",
       "      <td>8</td>\n",
       "    </tr>\n",
       "    <tr>\n",
       "      <th>18156665</th>\n",
       "      <td>82</td>\n",
       "      <td>18444</td>\n",
       "      <td>2165</td>\n",
       "      <td>11693</td>\n",
       "      <td>90</td>\n",
       "      <td>292</td>\n",
       "      <td>16</td>\n",
       "      <td>17</td>\n",
       "    </tr>\n",
       "    <tr>\n",
       "      <th>11985552</th>\n",
       "      <td>390</td>\n",
       "      <td>16427</td>\n",
       "      <td>118500</td>\n",
       "      <td>17864</td>\n",
       "      <td>625</td>\n",
       "      <td>346</td>\n",
       "      <td>1</td>\n",
       "      <td>2</td>\n",
       "    </tr>\n",
       "    <tr>\n",
       "      <th>18219318</th>\n",
       "      <td>384</td>\n",
       "      <td>18576</td>\n",
       "      <td>7305</td>\n",
       "      <td>16538</td>\n",
       "      <td>345</td>\n",
       "      <td>112</td>\n",
       "      <td>17</td>\n",
       "      <td>12</td>\n",
       "    </tr>\n",
       "  </tbody>\n",
       "</table>\n",
       "</div>"
      ],
      "text/plain": [
       "         league_id season_id venue_id referee_id localteam_id visitorteam_id  \\\n",
       "id                                                                             \n",
       "1710856          8      6397      117      14532           42              8   \n",
       "16924688         8     17420      201      13529           51             20   \n",
       "10332838         8     12962      167      15293           65             18   \n",
       "11886295        82     16264     1618      15406          272            332   \n",
       "18219196       384     18576     7305      17929          345            774   \n",
       "10333007         8     12962      117      15241           42             14   \n",
       "2020188         82      8026     2063      15413          354            366   \n",
       "18156665        82     18444     2165      11693           90            292   \n",
       "11985552       390     16427   118500      17864          625            346   \n",
       "18219318       384     18576     7305      16538          345            112   \n",
       "\n",
       "          localteam_position  visitorteam_position  \n",
       "id                                                  \n",
       "1710856                   15                     8  \n",
       "16924688                  11                    15  \n",
       "10332838                  16                     4  \n",
       "11886295                   9                    10  \n",
       "18219196                  19                    18  \n",
       "10333007                  11                     6  \n",
       "2020188                   11                     8  \n",
       "18156665                  16                    17  \n",
       "11985552                   1                     2  \n",
       "18219318                  17                    12  "
      ]
     },
     "execution_count": 138,
     "metadata": {},
     "output_type": "execute_result"
    }
   ],
   "source": [
    "X_test.head(10)"
   ]
  },
  {
   "cell_type": "code",
   "execution_count": 139,
   "id": "44a0a438-6cf1-4654-bf03-e40accd052a9",
   "metadata": {},
   "outputs": [
    {
     "data": {
      "text/plain": [
       "[[0.8003935687795385, 0.19960643122046154],\n",
       " [0.5390259031034836, 0.4609740968965163],\n",
       " [0.6872141210093372, 0.31278587899066274],\n",
       " [0.9607869802951623, 0.039213019704837655],\n",
       " [0.7601638992597715, 0.2398361007402285],\n",
       " [0.7359611587782995, 0.26403884122170046],\n",
       " [0.9577168193620729, 0.04228318063792717],\n",
       " [0.4828128376123276, 0.5171871623876724],\n",
       " [0.16548501081172584, 0.8345149891882742],\n",
       " [0.7643774113203499, 0.2356225886796502]]"
      ]
     },
     "execution_count": 139,
     "metadata": {},
     "output_type": "execute_result"
    }
   ],
   "source": [
    "classifier.predict(str(X_test.to_dict()))[:10]"
   ]
  },
  {
   "cell_type": "markdown",
   "id": "d121625b-345e-45f3-81da-c6c8b55a19b3",
   "metadata": {},
   "source": [
    "We now save the model to be the latest version. For this, we acces our bucket and retrieve the current latest version, add +1 to it, and store the new files there."
   ]
  },
  {
   "cell_type": "code",
   "execution_count": 140,
   "id": "c6a3d15a-85e7-4569-9fcf-bd9895d983b3",
   "metadata": {},
   "outputs": [],
   "source": [
    "model_versions = !gsutil ls gs://ubiquitous-goggles-bucket/football-prediction/\n",
    "\n",
    "model_versions = model_versions[1:] # First one is the general folder\n",
    "model_versions = [x[len('gs://ubiquitous-goggles-bucket/football-prediction/'):] for x in model_versions]\n",
    "model_versions = [re.findall(r'\\d+', x)[0] for x in model_versions]\n",
    "\n",
    "latest_version = np.array(model_versions).astype(int).max()\n",
    "new_latest_version = latest_version + 1"
   ]
  },
  {
   "cell_type": "markdown",
   "id": "2738e14f-8488-4350-a84f-7d610306ff55",
   "metadata": {},
   "source": [
    "We now move every file used to predict to the prediction folder in the bucket, from which the AI-Platform Model will retrieve them."
   ]
  },
  {
   "cell_type": "code",
   "execution_count": 141,
   "id": "709a70bb-045a-4cfb-aa76-9884105a0010",
   "metadata": {},
   "outputs": [
    {
     "name": "stdout",
     "output_type": "stream",
     "text": [
      "Copying file://model.pkl [Content-Type=application/octet-stream]...\n",
      "/ [1 files][303.6 KiB/303.6 KiB]                                                \n",
      "Operation completed over 1 objects/303.6 KiB.                                    \n",
      "Copying file://processor_state.pkl [Content-Type=application/octet-stream]...\n",
      "/ [1 files][  9.5 KiB/  9.5 KiB]                                                \n",
      "Operation completed over 1 objects/9.5 KiB.                                      \n",
      "Copying file://preprocess.py [Content-Type=text/x-python]...\n",
      "/ [1 files][  2.8 KiB/  2.8 KiB]                                                \n",
      "Operation completed over 1 objects/2.8 KiB.                                      \n",
      "Copying file://model_prediction.py [Content-Type=text/x-python]...\n",
      "/ [1 files][  828.0 B/  828.0 B]                                                \n",
      "Operation completed over 1 objects/828.0 B.                                      \n"
     ]
    }
   ],
   "source": [
    "!gsutil cp model.pkl gs://ubiquitous-goggles-bucket/football-prediction/v$new_latest_version/\n",
    "!gsutil cp processor_state.pkl gs://ubiquitous-goggles-bucket/football-prediction/v$new_latest_version/\n",
    "!gsutil cp preprocess.py gs://ubiquitous-goggles-bucket/football-prediction/v$new_latest_version/\n",
    "!gsutil cp model_prediction.py gs://ubiquitous-goggles-bucket/football-prediction/v$new_latest_version/"
   ]
  },
  {
   "cell_type": "markdown",
   "id": "a2808a4a-5de9-4b53-b47a-5d80ee259c76",
   "metadata": {},
   "source": [
    "We build the setup."
   ]
  },
  {
   "cell_type": "code",
   "execution_count": 142,
   "id": "3846478b-2694-48d5-bbeb-10a1bfbed4a6",
   "metadata": {},
   "outputs": [
    {
     "name": "stdout",
     "output_type": "stream",
     "text": [
      "Overwriting setup.py\n"
     ]
    }
   ],
   "source": [
    "%%writefile setup.py\n",
    "\n",
    "from setuptools import setup, find_packages\n",
    "\n",
    "REQUIRED_PACKAGES = ['pandas']\n",
    "\n",
    "setup(\n",
    "    name=\"football_predict\",\n",
    "    version=\"0.1\",\n",
    "    packages=find_packages(),\n",
    "    install_requires=REQUIRED_PACKAGES, \n",
    "    include_package_data=True,\n",
    "    scripts=[\"preprocess.py\", \"model_prediction.py\"]\n",
    ")"
   ]
  },
  {
   "cell_type": "markdown",
   "id": "bf970c7e-ac69-4aaa-ac08-fe560801ab9c",
   "metadata": {},
   "source": [
    "#### Packaging and Deploying"
   ]
  },
  {
   "cell_type": "markdown",
   "id": "bc6270e4-9a60-4303-9d16-95a596b752ea",
   "metadata": {},
   "source": [
    "We create the distribution from the setup."
   ]
  },
  {
   "cell_type": "code",
   "execution_count": 143,
   "id": "808e8666-6557-4859-bab0-13223dd70ad6",
   "metadata": {},
   "outputs": [
    {
     "name": "stdout",
     "output_type": "stream",
     "text": [
      "running sdist\n",
      "running egg_info\n",
      "writing football_predict.egg-info/PKG-INFO\n",
      "writing dependency_links to football_predict.egg-info/dependency_links.txt\n",
      "writing requirements to football_predict.egg-info/requires.txt\n",
      "writing top-level names to football_predict.egg-info/top_level.txt\n",
      "reading manifest file 'football_predict.egg-info/SOURCES.txt'\n",
      "writing manifest file 'football_predict.egg-info/SOURCES.txt'\n",
      "warning: sdist: standard file not found: should have one of README, README.rst, README.txt, README.md\n",
      "\n",
      "running check\n",
      "warning: check: missing required meta-data: url\n",
      "\n",
      "warning: check: missing meta-data: either (author and author_email) or (maintainer and maintainer_email) must be supplied\n",
      "\n",
      "creating football_predict-0.1\n",
      "creating football_predict-0.1/football_predict.egg-info\n",
      "copying files to football_predict-0.1...\n",
      "copying model_prediction.py -> football_predict-0.1\n",
      "copying preprocess.py -> football_predict-0.1\n",
      "copying setup.py -> football_predict-0.1\n",
      "copying football_predict.egg-info/PKG-INFO -> football_predict-0.1/football_predict.egg-info\n",
      "copying football_predict.egg-info/SOURCES.txt -> football_predict-0.1/football_predict.egg-info\n",
      "copying football_predict.egg-info/dependency_links.txt -> football_predict-0.1/football_predict.egg-info\n",
      "copying football_predict.egg-info/requires.txt -> football_predict-0.1/football_predict.egg-info\n",
      "copying football_predict.egg-info/top_level.txt -> football_predict-0.1/football_predict.egg-info\n",
      "Writing football_predict-0.1/setup.cfg\n",
      "Creating tar archive\n",
      "removing 'football_predict-0.1' (and everything under it)\n"
     ]
    }
   ],
   "source": [
    "!python setup.py sdist"
   ]
  },
  {
   "cell_type": "markdown",
   "id": "56b9eaca-a8bc-4bbe-8e32-3e36a7f4be35",
   "metadata": {},
   "source": [
    "We move the distribution to the prediction folder in the bucket."
   ]
  },
  {
   "cell_type": "code",
   "execution_count": 144,
   "id": "9c6f5127-4e27-49db-a1d9-ac321939aa73",
   "metadata": {},
   "outputs": [
    {
     "name": "stdout",
     "output_type": "stream",
     "text": [
      "Copying file://./dist/football_predict-0.1.tar.gz [Content-Type=application/x-tar]...\n",
      "/ [1 files][  1.9 KiB/  1.9 KiB]                                                \n",
      "Operation completed over 1 objects/1.9 KiB.                                      \n"
     ]
    }
   ],
   "source": [
    "!gsutil cp ./dist/football_predict-0.1.tar.gz gs://ubiquitous-goggles-bucket/football-prediction/v$new_latest_version/packages/football_predict-0.1.tar.gz"
   ]
  },
  {
   "cell_type": "markdown",
   "id": "50149152-f326-42c2-94a3-d175c12f99ad",
   "metadata": {},
   "source": [
    "We set the region to global"
   ]
  },
  {
   "cell_type": "code",
   "execution_count": 145,
   "id": "b0f055cc-f893-466a-8469-c209df24520f",
   "metadata": {},
   "outputs": [
    {
     "name": "stdout",
     "output_type": "stream",
     "text": [
      "Updated property [ai_platform/region].\n"
     ]
    }
   ],
   "source": [
    "!gcloud config set ai_platform/region global"
   ]
  },
  {
   "cell_type": "markdown",
   "id": "9ee95abb-00d1-43b9-adf1-117b5eed5265",
   "metadata": {},
   "source": [
    "We create the endpoint. If it already exists, it will throw an error message, so we rather not run it in case it has been already created."
   ]
  },
  {
   "cell_type": "code",
   "execution_count": 38,
   "id": "0c3520a3-f3fe-4278-ac99-41adba83415a",
   "metadata": {},
   "outputs": [],
   "source": [
    "# !gcloud ai endpoints create --display-name=football_match_predictions --region=us-central1"
   ]
  },
  {
   "cell_type": "markdown",
   "id": "75777deb-2618-47c8-acdb-00b475c07166",
   "metadata": {},
   "source": [
    "We create the new / latest version, which will point to new most newly saved files in the respective folder."
   ]
  },
  {
   "cell_type": "code",
   "execution_count": 146,
   "id": "6540d1a7-31f7-4845-9329-0621763deabc",
   "metadata": {},
   "outputs": [
    {
     "name": "stdout",
     "output_type": "stream",
     "text": [
      "Using endpoint [https://ml.googleapis.com/]\n",
      "Creating version (this might take a few minutes)......done.                    \n"
     ]
    }
   ],
   "source": [
    "!gcloud beta ai-platform versions create v$new_latest_version --model football_match_predictions --python-version 3.7 --runtime-version 2.8 --origin gs://ubiquitous-goggles-bucket/football-prediction/v$new_latest_version/ --package-uris gs://ubiquitous-goggles-bucket/football-prediction/v$new_latest_version/packages/football_predict-0.1.tar.gz --prediction-class model_prediction.CustomModelPrediction"
   ]
  },
  {
   "cell_type": "markdown",
   "id": "e7255d07-2bf3-4e11-8c8d-753a3857c8fa",
   "metadata": {
    "tags": []
   },
   "source": [
    "#### Predictions"
   ]
  },
  {
   "cell_type": "code",
   "execution_count": 147,
   "id": "40024b5f-5a2e-48ac-b865-b3eabcce5fac",
   "metadata": {},
   "outputs": [],
   "source": [
    "with open('X_train.json', 'r') as f:\n",
    "    X_train_text = f.read()\n",
    "    \n",
    "with open('X_test.json', 'r') as f:\n",
    "    X_test_text = f.read()"
   ]
  },
  {
   "cell_type": "code",
   "execution_count": 148,
   "id": "5a478eb2-4b11-4c2c-b6bb-5591bd058676",
   "metadata": {},
   "outputs": [
    {
     "data": {
      "text/plain": [
       "[[0.8003935687795385, 0.19960643122046154],\n",
       " [0.5390259031034836, 0.4609740968965163],\n",
       " [0.6872141210093372, 0.31278587899066274],\n",
       " [0.9607869802951623, 0.039213019704837655],\n",
       " [0.7601638992597715, 0.2398361007402285]]"
      ]
     },
     "execution_count": 148,
     "metadata": {},
     "output_type": "execute_result"
    }
   ],
   "source": [
    "predictions = vnf.predict_json('ubiquitous-goggles', 'football_match_predictions', str(X_test.to_dict()), version = \"v\" + str(new_latest_version))\n",
    "# predictions = vnf.predict_json('ubiquitous-goggles', 'football_match_predictions', str(X_test.to_dict()), version = \"v9\")\n",
    "predictions[:5]"
   ]
  },
  {
   "cell_type": "code",
   "execution_count": 149,
   "id": "119c1eab-e04e-4ab8-ad73-6988979e8759",
   "metadata": {},
   "outputs": [],
   "source": [
    "with open('X_test.json', 'r') as f:\n",
    "    X_test_text = f.read()"
   ]
  },
  {
   "cell_type": "code",
   "execution_count": 151,
   "id": "3074ce0e-d164-4e1d-b318-ca39bee22f13",
   "metadata": {},
   "outputs": [
    {
     "data": {
      "text/plain": [
       "[[0.5653634330956301, 0.43463656690436986]]"
      ]
     },
     "execution_count": 151,
     "metadata": {},
     "output_type": "execute_result"
    }
   ],
   "source": [
    "predictions = vnf.predict_json('ubiquitous-goggles', 'football_match_predictions', new_X_text, version = \"v\" + str(new_latest_version))\n",
    "# predictions = vnf.predict_json('ubiquitous-goggles', 'football_match_predictions', X_test_text, version = \"v14\")\n",
    "# predictions = vnf.predict_json('ubiquitous-goggles', 'football_match_predictions', str(bad_X.to_dict()), version = \"v\" + str(new_latest_version))\n",
    "predictions[:10]"
   ]
  },
  {
   "cell_type": "markdown",
   "id": "96b94cd4-2fcd-4dcd-9f90-5fb88a71a2e4",
   "metadata": {
    "tags": []
   },
   "source": [
    "# !!!! The following should be run after restarting the kernel. It was a test to make the script predictions.py"
   ]
  },
  {
   "cell_type": "code",
   "execution_count": 15,
   "id": "e63c2d0c-9081-4e44-a97b-e40c65cd942d",
   "metadata": {},
   "outputs": [],
   "source": [
    "%load_ext autoreload\n",
    "%autoreload 2"
   ]
  },
  {
   "cell_type": "code",
   "execution_count": 84,
   "id": "bdc8d22e-5de6-4d43-a83d-cbf8d653e37e",
   "metadata": {},
   "outputs": [
    {
     "name": "stdout",
     "output_type": "stream",
     "text": [
      "Probability of localteam 53 winning vs visitorteam 62: 40.0%\n",
      "Probability of localteam 53 winning vs visitorteam 62: 42.2%\n",
      "Probability of localteam 284 winning vs visitorteam 53: 71.11%\n",
      "Probability of localteam 53 winning vs visitorteam 62: 35.65%\n",
      "Probability of localteam 62 winning vs visitorteam 53: 50.65%\n"
     ]
    }
   ],
   "source": [
    "### script2.py\n",
    "import yaml\n",
    "import pandas as pd\n",
    "import mysql.connector\n",
    "\n",
    "### Open config file\n",
    "config_file = open('config.yaml', 'r')\n",
    "config = yaml.safe_load(config_file)\n",
    "\n",
    "### Connect to the DB\n",
    "client = mysql.connector.connect(**config['connection'])\n",
    "cursor = client.cursor()\n",
    "\n",
    "### Get set of features for which we want to make a prediction\n",
    "cursor.execute(\"SELECT * FROM h2h.prediction\")\n",
    "colnames = cursor.column_names\n",
    "res = cursor.fetchall()\n",
    "df = pd.DataFrame(columns = colnames)\n",
    "\n",
    "### Arrange them into a DF\n",
    "for k in range(len(res)):\n",
    "\n",
    "    aux = pd.DataFrame(res[k]).transpose()\n",
    "    aux.columns = colnames\n",
    "    df = pd.concat([df, aux])\n",
    "    \n",
    "df.set_index('id', inplace = True)\n",
    "\n",
    "# Convert categorical to dummies\n",
    "X = df[[col for col in df.columns if col != 'probs']]\n",
    "\n",
    "# Make the predictions\n",
    "from model_prediction import CustomModelPrediction\n",
    "classifier = CustomModelPrediction.from_path('.')\n",
    "results = classifier.predict(X)\n",
    "\n",
    "# Print the results \n",
    "for localteam, visitorteam, result in zip(X['localteam_id'].values, X['visitorteam_id'].values, results):\n",
    "    print(f'Probability of localteam {localteam} winning vs visitorteam {visitorteam}: ' + str(round(100*result[0], 2)) + '%')\n",
    "\n",
    "### We will add the predictions bask to the DB. For this, we\n",
    "### convert the results to a string\n",
    "to_predict = X.copy()\n",
    "to_predict['probs'] = results\n",
    "to_predict['probs'] = to_predict['probs'].apply(lambda x: str(x[0]) + ',' + str(x[1]))\n",
    "\n",
    "def list_of_tuples(df):\n",
    "    \n",
    "    all_values = []\n",
    "    \n",
    "    for k in range(df.shape[0]):\n",
    "        temp = df.copy()\n",
    "        temp = temp.reset_index()\n",
    "        temp = temp[['probs', 'id']]\n",
    "        temp = temp.iloc[k]                        \n",
    "        temp = temp.astype(str)\n",
    "        temp = tuple(temp)\n",
    "        all_values.append(temp)\n",
    "        \n",
    "    return all_values\n",
    "\n",
    "to_predict_values = list_of_tuples(to_predict)\n",
    "\n",
    "### Since the table already exists, we update the na values\n",
    "### in it with the probabilities we calculated\n",
    "sql_com = \"UPDATE h2h.prediction SET probs = %s WHERE id = %s\"\n",
    "\n",
    "for value in to_predict_values:\n",
    "    try:\n",
    "        cursor.execute(sql_com, value)\n",
    "    except mysql.connector.IntegrityError as err:\n",
    "        print(\"Something went wrong: {}\".format(err))        \n",
    "        pass\n",
    "\n",
    "client.commit()"
   ]
  },
  {
   "cell_type": "markdown",
   "id": "7a039da5-2d56-4f53-8f73-f159704fd51c",
   "metadata": {},
   "source": [
    "### Dag"
   ]
  },
  {
   "cell_type": "markdown",
   "id": "46586825-8a3d-437e-ba58-e668790806d3",
   "metadata": {},
   "source": [
    "task 1\n",
    "\n",
    "script1.py\n",
    "\n",
    "\n",
    "task 2\n",
    "\n",
    "script2.py"
   ]
  },
  {
   "cell_type": "code",
   "execution_count": 121,
   "id": "82fa3956-3360-4f57-a70e-4ca79d441614",
   "metadata": {},
   "outputs": [
    {
     "data": {
      "text/html": [
       "<div>\n",
       "<style scoped>\n",
       "    .dataframe tbody tr th:only-of-type {\n",
       "        vertical-align: middle;\n",
       "    }\n",
       "\n",
       "    .dataframe tbody tr th {\n",
       "        vertical-align: top;\n",
       "    }\n",
       "\n",
       "    .dataframe thead th {\n",
       "        text-align: right;\n",
       "    }\n",
       "</style>\n",
       "<table border=\"1\" class=\"dataframe\">\n",
       "  <thead>\n",
       "    <tr style=\"text-align: right;\">\n",
       "      <th></th>\n",
       "      <th>league_id</th>\n",
       "      <th>season_id</th>\n",
       "      <th>venue_id</th>\n",
       "      <th>referee_id</th>\n",
       "      <th>localteam_id</th>\n",
       "      <th>visitorteam_id</th>\n",
       "      <th>localteam_position</th>\n",
       "      <th>visitorteam_position</th>\n",
       "    </tr>\n",
       "  </thead>\n",
       "  <tbody>\n",
       "    <tr>\n",
       "      <th>123</th>\n",
       "      <td>19</td>\n",
       "      <td>19</td>\n",
       "      <td>8914</td>\n",
       "      <td>14468</td>\n",
       "      <td>78</td>\n",
       "      <td>53</td>\n",
       "      <td>32</td>\n",
       "      <td>2</td>\n",
       "    </tr>\n",
       "  </tbody>\n",
       "</table>\n",
       "</div>"
      ],
      "text/plain": [
       "    league_id season_id venue_id referee_id localteam_id visitorteam_id  \\\n",
       "123        19        19     8914      14468           78             53   \n",
       "\n",
       "     localteam_position  visitorteam_position  \n",
       "123                  32                     2  "
      ]
     },
     "execution_count": 121,
     "metadata": {},
     "output_type": "execute_result"
    }
   ],
   "source": [
    "new_X"
   ]
  },
  {
   "cell_type": "code",
   "execution_count": 159,
   "id": "98dd7fc6-87df-4598-af2e-59c83f5ebc8c",
   "metadata": {},
   "outputs": [],
   "source": [
    "test_json = {'instances':[dict(new_X.reset_index().iloc[0])]}"
   ]
  },
  {
   "cell_type": "code",
   "execution_count": 160,
   "id": "874adda8-8b1a-44e1-90fc-d62ca7d46970",
   "metadata": {},
   "outputs": [],
   "source": [
    "with open('test_json', 'w') as f:\n",
    "    f.write(str(test_json))"
   ]
  },
  {
   "cell_type": "code",
   "execution_count": null,
   "id": "1f702eb7-cf6e-41ba-935a-7707dbf5670c",
   "metadata": {},
   "outputs": [],
   "source": []
  },
  {
   "cell_type": "code",
   "execution_count": 189,
   "id": "0077fe29-14ba-4c74-b166-7dd0d31471f0",
   "metadata": {},
   "outputs": [],
   "source": [
    "X_test.head(2).to_json('football_json2.json')"
   ]
  },
  {
   "cell_type": "code",
   "execution_count": 83,
   "id": "7b809e63-3c5d-40b0-8650-368ff4c56231",
   "metadata": {},
   "outputs": [],
   "source": [
    "X_test.to_json('football_json.json')"
   ]
  },
  {
   "cell_type": "code",
   "execution_count": 161,
   "id": "6dcabe4d-9137-40a1-9fbb-ee781d0b44c5",
   "metadata": {},
   "outputs": [],
   "source": [
    "with open('X_test.json', 'r') as f:\n",
    "    aux = f.read()"
   ]
  },
  {
   "cell_type": "code",
   "execution_count": 164,
   "id": "caf04927-a81b-46d0-a4de-b41bbba6e8d2",
   "metadata": {},
   "outputs": [
    {
     "data": {
      "text/html": [
       "<div>\n",
       "<style scoped>\n",
       "    .dataframe tbody tr th:only-of-type {\n",
       "        vertical-align: middle;\n",
       "    }\n",
       "\n",
       "    .dataframe tbody tr th {\n",
       "        vertical-align: top;\n",
       "    }\n",
       "\n",
       "    .dataframe thead th {\n",
       "        text-align: right;\n",
       "    }\n",
       "</style>\n",
       "<table border=\"1\" class=\"dataframe\">\n",
       "  <thead>\n",
       "    <tr style=\"text-align: right;\">\n",
       "      <th></th>\n",
       "      <th>league_id</th>\n",
       "      <th>season_id</th>\n",
       "      <th>venue_id</th>\n",
       "      <th>referee_id</th>\n",
       "      <th>localteam_id</th>\n",
       "      <th>visitorteam_id</th>\n",
       "      <th>localteam_position</th>\n",
       "      <th>visitorteam_position</th>\n",
       "    </tr>\n",
       "  </thead>\n",
       "  <tbody>\n",
       "    <tr>\n",
       "      <th>1711083</th>\n",
       "      <td>8</td>\n",
       "      <td>6397</td>\n",
       "      <td>200</td>\n",
       "      <td>14808</td>\n",
       "      <td>27</td>\n",
       "      <td>13</td>\n",
       "      <td>7</td>\n",
       "      <td>9</td>\n",
       "    </tr>\n",
       "    <tr>\n",
       "      <th>18165911</th>\n",
       "      <td>564</td>\n",
       "      <td>18462</td>\n",
       "      <td>304396</td>\n",
       "      <td>19630</td>\n",
       "      <td>377</td>\n",
       "      <td>485</td>\n",
       "      <td>7</td>\n",
       "      <td>3</td>\n",
       "    </tr>\n",
       "    <tr>\n",
       "      <th>16924755</th>\n",
       "      <td>8</td>\n",
       "      <td>17420</td>\n",
       "      <td>480</td>\n",
       "      <td>852</td>\n",
       "      <td>78</td>\n",
       "      <td>29</td>\n",
       "      <td>17</td>\n",
       "      <td>13</td>\n",
       "    </tr>\n",
       "    <tr>\n",
       "      <th>10420120</th>\n",
       "      <td>384</td>\n",
       "      <td>13158</td>\n",
       "      <td>134</td>\n",
       "      <td>15966</td>\n",
       "      <td>597</td>\n",
       "      <td>109</td>\n",
       "      <td>5</td>\n",
       "      <td>3</td>\n",
       "    </tr>\n",
       "    <tr>\n",
       "      <th>17098339</th>\n",
       "      <td>384</td>\n",
       "      <td>17488</td>\n",
       "      <td>86</td>\n",
       "      <td>15799</td>\n",
       "      <td>102</td>\n",
       "      <td>345</td>\n",
       "      <td>14</td>\n",
       "      <td>15</td>\n",
       "    </tr>\n",
       "    <tr>\n",
       "      <th>...</th>\n",
       "      <td>...</td>\n",
       "      <td>...</td>\n",
       "      <td>...</td>\n",
       "      <td>...</td>\n",
       "      <td>...</td>\n",
       "      <td>...</td>\n",
       "      <td>...</td>\n",
       "      <td>...</td>\n",
       "    </tr>\n",
       "    <tr>\n",
       "      <th>11867260</th>\n",
       "      <td>8</td>\n",
       "      <td>16036</td>\n",
       "      <td>12</td>\n",
       "      <td>14532</td>\n",
       "      <td>13</td>\n",
       "      <td>29</td>\n",
       "      <td>12</td>\n",
       "      <td>17</td>\n",
       "    </tr>\n",
       "    <tr>\n",
       "      <th>4772278</th>\n",
       "      <td>384</td>\n",
       "      <td>8557</td>\n",
       "      <td>339714</td>\n",
       "      <td>16780</td>\n",
       "      <td>597</td>\n",
       "      <td>625</td>\n",
       "      <td>1</td>\n",
       "      <td>3</td>\n",
       "    </tr>\n",
       "    <tr>\n",
       "      <th>1711017</th>\n",
       "      <td>8</td>\n",
       "      <td>6397</td>\n",
       "      <td>151</td>\n",
       "      <td>15270</td>\n",
       "      <td>9</td>\n",
       "      <td>25</td>\n",
       "      <td>1</td>\n",
       "      <td>10</td>\n",
       "    </tr>\n",
       "    <tr>\n",
       "      <th>4772482</th>\n",
       "      <td>384</td>\n",
       "      <td>8557</td>\n",
       "      <td>7189</td>\n",
       "      <td>15797</td>\n",
       "      <td>43</td>\n",
       "      <td>708</td>\n",
       "      <td>4</td>\n",
       "      <td>7</td>\n",
       "    </tr>\n",
       "    <tr>\n",
       "      <th>18165626</th>\n",
       "      <td>564</td>\n",
       "      <td>18462</td>\n",
       "      <td>56</td>\n",
       "      <td>17909</td>\n",
       "      <td>459</td>\n",
       "      <td>36</td>\n",
       "      <td>15</td>\n",
       "      <td>17</td>\n",
       "    </tr>\n",
       "  </tbody>\n",
       "</table>\n",
       "<p>1079 rows × 8 columns</p>\n",
       "</div>"
      ],
      "text/plain": [
       "         league_id season_id venue_id referee_id localteam_id visitorteam_id  \\\n",
       "1711083          8      6397      200      14808           27             13   \n",
       "18165911       564     18462   304396      19630          377            485   \n",
       "16924755         8     17420      480        852           78             29   \n",
       "10420120       384     13158      134      15966          597            109   \n",
       "17098339       384     17488       86      15799          102            345   \n",
       "...            ...       ...      ...        ...          ...            ...   \n",
       "11867260         8     16036       12      14532           13             29   \n",
       "4772278        384      8557   339714      16780          597            625   \n",
       "1711017          8      6397      151      15270            9             25   \n",
       "4772482        384      8557     7189      15797           43            708   \n",
       "18165626       564     18462       56      17909          459             36   \n",
       "\n",
       "          localteam_position  visitorteam_position  \n",
       "1711083                    7                     9  \n",
       "18165911                   7                     3  \n",
       "16924755                  17                    13  \n",
       "10420120                   5                     3  \n",
       "17098339                  14                    15  \n",
       "...                      ...                   ...  \n",
       "11867260                  12                    17  \n",
       "4772278                    1                     3  \n",
       "1711017                    1                    10  \n",
       "4772482                    4                     7  \n",
       "18165626                  15                    17  \n",
       "\n",
       "[1079 rows x 8 columns]"
      ]
     },
     "execution_count": 164,
     "metadata": {},
     "output_type": "execute_result"
    }
   ],
   "source": [
    "pd.DataFrame(eval(aux))"
   ]
  },
  {
   "cell_type": "code",
   "execution_count": 386,
   "id": "64e75e0f-5778-4816-a356-c81ea22072f2",
   "metadata": {},
   "outputs": [
    {
     "data": {
      "text/html": [
       "<div>\n",
       "<style scoped>\n",
       "    .dataframe tbody tr th:only-of-type {\n",
       "        vertical-align: middle;\n",
       "    }\n",
       "\n",
       "    .dataframe tbody tr th {\n",
       "        vertical-align: top;\n",
       "    }\n",
       "\n",
       "    .dataframe thead th {\n",
       "        text-align: right;\n",
       "    }\n",
       "</style>\n",
       "<table border=\"1\" class=\"dataframe\">\n",
       "  <thead>\n",
       "    <tr style=\"text-align: right;\">\n",
       "      <th></th>\n",
       "      <th>league_id</th>\n",
       "      <th>season_id</th>\n",
       "      <th>venue_id</th>\n",
       "      <th>referee_id</th>\n",
       "      <th>localteam_id</th>\n",
       "      <th>visitorteam_id</th>\n",
       "      <th>localteam_position</th>\n",
       "      <th>visitorteam_position</th>\n",
       "    </tr>\n",
       "    <tr>\n",
       "      <th>id</th>\n",
       "      <th></th>\n",
       "      <th></th>\n",
       "      <th></th>\n",
       "      <th></th>\n",
       "      <th></th>\n",
       "      <th></th>\n",
       "      <th></th>\n",
       "      <th></th>\n",
       "    </tr>\n",
       "  </thead>\n",
       "  <tbody>\n",
       "    <tr>\n",
       "      <th>11784062</th>\n",
       "      <td>501</td>\n",
       "      <td>1929</td>\n",
       "      <td>8909</td>\n",
       "      <td>-1</td>\n",
       "      <td>53</td>\n",
       "      <td>62</td>\n",
       "      <td>-1</td>\n",
       "      <td>-1</td>\n",
       "    </tr>\n",
       "    <tr>\n",
       "      <th>16475344</th>\n",
       "      <td>501</td>\n",
       "      <td>17141</td>\n",
       "      <td>8909</td>\n",
       "      <td>17265</td>\n",
       "      <td>53</td>\n",
       "      <td>62</td>\n",
       "      <td>2</td>\n",
       "      <td>1</td>\n",
       "    </tr>\n",
       "    <tr>\n",
       "      <th>1871884</th>\n",
       "      <td>501</td>\n",
       "      <td>7953</td>\n",
       "      <td>284597</td>\n",
       "      <td>18748</td>\n",
       "      <td>284</td>\n",
       "      <td>53</td>\n",
       "      <td>10</td>\n",
       "      <td>1</td>\n",
       "    </tr>\n",
       "    <tr>\n",
       "      <th>376104</th>\n",
       "      <td>501</td>\n",
       "      <td>1933</td>\n",
       "      <td>8909</td>\n",
       "      <td>70308</td>\n",
       "      <td>53</td>\n",
       "      <td>62</td>\n",
       "      <td>-1</td>\n",
       "      <td>-1</td>\n",
       "    </tr>\n",
       "    <tr>\n",
       "      <th>11784191</th>\n",
       "      <td>501</td>\n",
       "      <td>1931</td>\n",
       "      <td>8914</td>\n",
       "      <td>19316</td>\n",
       "      <td>62</td>\n",
       "      <td>53</td>\n",
       "      <td>-1</td>\n",
       "      <td>-1</td>\n",
       "    </tr>\n",
       "  </tbody>\n",
       "</table>\n",
       "</div>"
      ],
      "text/plain": [
       "         league_id season_id venue_id referee_id localteam_id visitorteam_id  \\\n",
       "id                                                                             \n",
       "11784062       501      1929     8909         -1           53             62   \n",
       "16475344       501     17141     8909      17265           53             62   \n",
       "1871884        501      7953   284597      18748          284             53   \n",
       "376104         501      1933     8909      70308           53             62   \n",
       "11784191       501      1931     8914      19316           62             53   \n",
       "\n",
       "         localteam_position visitorteam_position  \n",
       "id                                                \n",
       "11784062                 -1                   -1  \n",
       "16475344                  2                    1  \n",
       "1871884                  10                    1  \n",
       "376104                   -1                   -1  \n",
       "11784191                 -1                   -1  "
      ]
     },
     "execution_count": 386,
     "metadata": {},
     "output_type": "execute_result"
    }
   ],
   "source": [
    "X_test.sample(5)"
   ]
  },
  {
   "cell_type": "code",
   "execution_count": null,
   "id": "b110bc6b-44d5-444c-b18d-9c382e9fc799",
   "metadata": {},
   "outputs": [],
   "source": [
    "### script2.py\n",
    "import pandas as pd\n",
    "import mysql\n",
    "\n",
    "### Open config file\n",
    "config_file = open('config.yaml', 'r')\n",
    "config = yaml.safe_load(config_file)\n",
    "\n",
    "### Connect to the DB\n",
    "client = mysql.connector.connect(**config['connection'])\n",
    "cursor = client.cursor()\n",
    "\n",
    "### Get set of features for which we want to make a prediction\n",
    "cursor.execute(\"SELECT * FROM h2h.predictions\")\n",
    "colnames = cursor.column_names\n",
    "res = cursor.fetchall()\n",
    "df = pd.DataFrame(columns = colnames)\n",
    "\n",
    "### Arrange them into a DF\n",
    "for k in range(len(res)):\n",
    "\n",
    "    aux = pd.DataFrame(res[k]).transpose()\n",
    "    aux.columns = colnames\n",
    "    df = pd.concat([df, aux])\n",
    "    \n",
    "df.set_index('id', inplace = True)\n",
    "\n",
    "# Convert categorical to dummies\n",
    "X = df[[col for col in df.columns if col != 'Y']]\n",
    "\n",
    "# Response variable\n",
    "y = df['Y'].astype(int)\n",
    "\n",
    "# Make the predictions\n",
    "predictions = !gcloud ai-platform predict --model=itam_dpa_2022_text_classifier --version=v2 --text-instances=predictions.txt"
   ]
  }
 ],
 "metadata": {
  "environment": {
   "kernel": "python3",
   "name": "common-cpu.m91",
   "type": "gcloud",
   "uri": "gcr.io/deeplearning-platform-release/base-cpu:m91"
  },
  "kernelspec": {
   "display_name": "Python 3",
   "language": "python",
   "name": "python3"
  },
  "language_info": {
   "codemirror_mode": {
    "name": "ipython",
    "version": 3
   },
   "file_extension": ".py",
   "mimetype": "text/x-python",
   "name": "python",
   "nbconvert_exporter": "python",
   "pygments_lexer": "ipython3",
   "version": "3.7.12"
  }
 },
 "nbformat": 4,
 "nbformat_minor": 5
}
